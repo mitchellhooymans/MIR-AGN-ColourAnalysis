{
 "cells": [
  {
   "cell_type": "markdown",
   "metadata": {},
   "source": [
    "# Reliability and Completeness of AGN Selection Results\n",
    "## In the CDFS, COSMOS, and UDS Survey"
   ]
  },
  {
   "cell_type": "code",
   "execution_count": 100,
   "metadata": {},
   "outputs": [],
   "source": [
    "# Import all relevant libraries\n",
    "import numpy as np\n",
    "import pandas as pd\n",
    "import matplotlib.pyplot as plt\n",
    "import os"
   ]
  },
  {
   "cell_type": "code",
   "execution_count": 101,
   "metadata": {},
   "outputs": [],
   "source": [
    "# read in both the completeness table and the reliablity table\n",
    "# out of the diagnostic comparisons folder\n",
    "\n",
    "\n",
    "\n",
    "file_path = os.path.join(\"diagnostic comparisons\", \"completeness.csv\")\n",
    "completeness_df = pd.read_csv(file_path)\n",
    "\n",
    "file_path = os.path.join(\"diagnostic comparisons\", \"reliability.csv\")\n",
    "reliability_df = pd.read_csv(file_path)"
   ]
  },
  {
   "cell_type": "code",
   "execution_count": 102,
   "metadata": {},
   "outputs": [
    {
     "data": {
      "text/html": [
       "<div>\n",
       "<style scoped>\n",
       "    .dataframe tbody tr th:only-of-type {\n",
       "        vertical-align: middle;\n",
       "    }\n",
       "\n",
       "    .dataframe tbody tr th {\n",
       "        vertical-align: top;\n",
       "    }\n",
       "\n",
       "    .dataframe thead th {\n",
       "        text-align: right;\n",
       "    }\n",
       "</style>\n",
       "<table border=\"1\" class=\"dataframe\">\n",
       "  <thead>\n",
       "    <tr style=\"text-align: right;\">\n",
       "      <th></th>\n",
       "      <th>Unnamed: 0</th>\n",
       "      <th>Lacy</th>\n",
       "      <th>Donley</th>\n",
       "      <th>Messias</th>\n",
       "      <th>Szokoly</th>\n",
       "    </tr>\n",
       "  </thead>\n",
       "  <tbody>\n",
       "    <tr>\n",
       "      <th>0</th>\n",
       "      <td>CDFS</td>\n",
       "      <td>98.06</td>\n",
       "      <td>35.92</td>\n",
       "      <td>18.45</td>\n",
       "      <td>24.26</td>\n",
       "    </tr>\n",
       "    <tr>\n",
       "      <th>1</th>\n",
       "      <td>COSMOS</td>\n",
       "      <td>96.55</td>\n",
       "      <td>68.97</td>\n",
       "      <td>44.83</td>\n",
       "      <td>NaN</td>\n",
       "    </tr>\n",
       "    <tr>\n",
       "      <th>2</th>\n",
       "      <td>UDS</td>\n",
       "      <td>94.29</td>\n",
       "      <td>45.71</td>\n",
       "      <td>22.86</td>\n",
       "      <td>NaN</td>\n",
       "    </tr>\n",
       "  </tbody>\n",
       "</table>\n",
       "</div>"
      ],
      "text/plain": [
       "  Unnamed: 0  Lacy   Donley   Messias  Szokoly\n",
       "0       CDFS  98.06    35.92    18.45    24.26\n",
       "1     COSMOS  96.55    68.97    44.83      NaN\n",
       "2        UDS  94.29    45.71    22.86      NaN"
      ]
     },
     "execution_count": 102,
     "metadata": {},
     "output_type": "execute_result"
    }
   ],
   "source": [
    "completeness_df\n"
   ]
  },
  {
   "cell_type": "code",
   "execution_count": 103,
   "metadata": {},
   "outputs": [],
   "source": [
    "\n",
    "# Set the column 'Unnamed: 0' as the index\n",
    "completeness_df.set_index('Unnamed: 0', inplace=True)\n",
    "\n",
    "# Transpose the DataFrame for plotting\n",
    "completeness_df = completeness_df.transpose()"
   ]
  },
  {
   "cell_type": "code",
   "execution_count": 104,
   "metadata": {},
   "outputs": [],
   "source": [
    "reliability_df\n",
    "\n",
    "\n",
    "# Set the column 'Unnamed: 0' as the index\n",
    "reliability_df.set_index('Unnamed: 0', inplace=True)\n",
    "\n",
    "# Transpose the DataFrame for plotting\n",
    "reliability_df = reliability_df.transpose()\n"
   ]
  },
  {
   "cell_type": "code",
   "execution_count": 105,
   "metadata": {},
   "outputs": [],
   "source": [
    "# Get the margin of error for the completeness and reliability\n",
    "\n",
    "\n",
    "\n",
    "\n"
   ]
  },
  {
   "cell_type": "code",
   "execution_count": 106,
   "metadata": {},
   "outputs": [],
   "source": [
    "# Choose a colour pallete \n",
    "custom_colors = ['#FF3300', '#FF9900', '#FFCC00']\n",
    "\n"
   ]
  },
  {
   "cell_type": "code",
   "execution_count": 107,
   "metadata": {},
   "outputs": [
    {
     "data": {
      "image/png": "[encoded data removed]",
      "text/plain": [
       "<Figure size 360x432 with 1 Axes>"
      ]
     },
     "metadata": {
      "needs_background": "light"
     },
     "output_type": "display_data"
    }
   ],
   "source": [
    "# we now want to make a column plot, with the column plot grouping the data to 3 different sections, with each column colour representing the selection criteria\n",
    "c_errors = {'CDFS':[1.4, 1, 1, 0.7], 'COSMOS':[0.6, 1.6, 1.8, 0], 'UDS':[0.5, 1.6, 1.4, 0]}\n",
    "\n",
    "fs  = 12\n",
    "# First for the compleness\n",
    "# Create a grouped column plot\n",
    "ax = completeness_df.plot(kind='bar', figsize=(5, 6), zorder=2, color=custom_colors, edgecolor='grey', linewidth=0.35, yerr=c_errors, capsize=3)\n",
    "# Get the current axis\n",
    "ax = plt.gca()\n",
    "# Set the y-axis limit to 100%\n",
    "plt.ylim(0, 100)\n",
    "\n",
    "# Turn on the grid with customization\n",
    "ax.grid(True, color='gray', linestyle='-', linewidth=0.5, zorder=0)\n",
    "\n",
    "\n",
    "# Customize the plot\n",
    "#plt.title('Completeness of AGN Selection Techniques')\n",
    "plt.xlabel('Selection Technique', fontsize=fs)\n",
    "plt.ylabel('Completeness (%)', fontsize=fs)\n",
    "plt.legend(title='Field', loc='upper right', fontsize=fs)\n",
    "plt.xticks(rotation=0, fontsize=fs)  # To keep the x-labels horizontal\n",
    "plt.yticks(fontsize=fs)\n",
    "plt.savefig('plots/TechniqueCompleteness.png', dpi=300, bbox_inches='tight')\n"
   ]
  },
  {
   "cell_type": "code",
   "execution_count": 108,
   "metadata": {},
   "outputs": [
    {
     "data": {
      "image/png": "[encoded data removed]",
      "text/plain": [
       "<Figure size 360x432 with 1 Axes>"
      ]
     },
     "metadata": {
      "needs_background": "light"
     },
     "output_type": "display_data"
    }
   ],
   "source": [
    "# we now want to make a column plot, with the column plot grouping the data to 3 different sections, with each column colour representing the selection criteria\n",
    "# Now plotting the reliability of the data\n",
    "fs = 12\n",
    "\n",
    "r_errors = {'CDFS':[1, 1, 1.5, 0.7], 'COSMOS':[0.6, 1.3, 1.2, 0], 'UDS':[0.2, 0.8, 0.9, 0]}\n",
    "\n",
    "# Create a grouped column plot\n",
    "ax = reliability_df.plot(kind='bar', figsize=(5, 6), zorder=2, color=custom_colors, edgecolor='grey', linewidth=0.35, yerr=r_errors, capsize=3)\n",
    "# Get the current axis\n",
    "ax = plt.gca()\n",
    "\n",
    "# Turn on the grid with customization\n",
    "ax.grid(True, color='gray', linestyle='-', linewidth=0.5, zorder=0)\n",
    "\n",
    "# Set the y-axis limit to 100%\n",
    "plt.ylim(0, 100)\n",
    "\n",
    "# Customize the plot\n",
    "#plt.title('Reliability of AGN Selection Techniques')\n",
    "plt.xlabel('Selection Technique', fontsize=fs)\n",
    "plt.ylabel('Reliability (%)', fontsize=fs)\n",
    "plt.legend(title='Field', loc='upper right', fontsize=fs)\n",
    "plt.xticks(rotation=0, fontsize=fs)# To keep the x-labels horizontal\n",
    "plt.yticks(fontsize=fs)\n",
    "plt.savefig('plots/TechniqueReliability.png', dpi=300, bbox_inches='tight')"
   ]
  },
  {
   "cell_type": "code",
   "execution_count": null,
   "metadata": {},
   "outputs": [],
   "source": []
  }
 ],
 "metadata": {
  "kernelspec": {
   "display_name": "base",
   "language": "python",
   "name": "python3"
  },
  "language_info": {
   "codemirror_mode": {
    "name": "ipython",
    "version": 3
   },
   "file_extension": ".py",
   "mimetype": "text/x-python",
   "name": "python",
   "nbconvert_exporter": "python",
   "pygments_lexer": "ipython3",
   "version": "3.8.8"
  }
 },
 "nbformat": 4,
 "nbformat_minor": 2
}
