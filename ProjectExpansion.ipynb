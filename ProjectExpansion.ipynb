{
 "cells": [
  {
   "cell_type": "markdown",
   "metadata": {},
   "source": [
    "# Extension Project \n",
    "## Part 1: Extending the Analysis of AGN to include the X-ray band.\n",
    "This script is intended to provide an extension of the work done in the first script. This extension in it's current form as no real aim and is intended to be exploratory. \n",
    "\n",
    "\n",
    "Notes for Project Extension \n",
    "* Finish off by fixing the Donley Selection\n",
    "    * If time permits add the Stern Selection\n",
    "* Maybe crossmatch with X-Ray data?\n",
    "    * Focus on one field, CDFS with XMM-Newton data\n",
    "    * chandra space 4Ms or 7Ms survey in topcat\n",
    "    * Make liberal use of the crossmatching feature in TOPCAT or similarly follow on with this project and use the crossmatching feature in python\n",
    "    * Use the XMM-Newton data to find the X-ray fluxes of the AGN\n",
    "    * Use the seleciton criteria in Cowley et al. 2016 to select AGN by Luminosity and Hardness Ratio.\n",
    "* Xray selection\n",
    "* AGN Selection using luminosity threshold (CDFS)\n",
    "* Possible UVJ selection\n",
    "    * Potentially contaiminated by dusty torus\n",
    "    * What we could do would be to first plot the UVJ diagram and see how the distribution looks in different redshift bins\n",
    "    * Then we could plot the UVJ diagram for the AGN selected by the X-ray luminosity and see how that compares to the general population\n",
    "    * we could also compare this to the IR selected AGNS, maybe using a subset of these AGN that are also X-ray selected.\n",
    "* Could also look at how star-formation rate is effected between xray agn or ir agn?\n",
    "\n",
    "\n",
    "HR <- Crossmatch the the HR from the XRAY ZFourge catalogue.\n",
    "\n"
   ]
  },
  {
   "cell_type": "markdown",
   "metadata": {},
   "source": [
    "# Cross Matching ZFOURGE with XMM-Newton Data\n",
    "* Focus on one field, CDFS with XMM-Newton data\n",
    "* chandra space 4Ms survey in topcat (Check Paper)\n",
    "    * Use the XMM-Newton data to find the X-ray fluxes of the AGN\n",
    "* Make liberal use of the crossmatching feature in TOPCAT or similarly follow on with this project and create a cross-matching function in python\n",
    "* Use the seleciton criteria in Cowley et al. 2016 to select AGN by Luminosity and Hardness Ratio."
   ]
  },
  {
   "cell_type": "code",
   "execution_count": 1,
   "metadata": {},
   "outputs": [],
   "source": [
    "# Begin by importing the required packages for the project\n",
    "import numpy as np\n",
    "import scipy as sp\n",
    "import matplotlib.pyplot as plt\n",
    "import pandas as pd\n",
    "from astropy.io import fits\n",
    "import os"
   ]
  },
  {
   "cell_type": "code",
   "execution_count": 2,
   "metadata": {},
   "outputs": [],
   "source": [
    "# Attempt to read in the fits file of the CDFS 7Ms survey or the Chandra 4Ms Survey.\n",
    "# Noting for the 7Ms survey the the there is a flux but not a value for lumunosity.\n",
    "\n",
    "# For now we will use the CDFS 4Ms survey (Xue et al. 2011)\n",
    "# importing the fits file\n",
    "file_path = os.path.join('crossmatch\\CDFS_4Ms.fits')\n",
    "xray_fits = fits.open(file_path)\n",
    "\n",
    "xray_df = pd.DataFrame(np.array(xray_fits[1].data).byteswap().newbyteorder())  # Byteswap so that Pandas can read it\n"
   ]
  },
  {
   "cell_type": "code",
   "execution_count": 5,
   "metadata": {},
   "outputs": [
    {
     "data": {
      "text/plain": [
       "0      0.46\n",
       "1      0.43\n",
       "2      1.59\n",
       "3      1.89\n",
       "4      1.61\n",
       "       ... \n",
       "771    2.28\n",
       "772    2.68\n",
       "773    3.94\n",
       "774    0.61\n",
       "775    1.85\n",
       "Name: BRat, Length: 776, dtype: float32"
      ]
     },
     "execution_count": 5,
     "metadata": {},
     "output_type": "execute_result"
    }
   ],
   "source": [
    "# The idea is now that we want to read in our data and use the xray selection technique outlined by in the AGN selection paper (Cowley et al. 2016)"
   ]
  },
  {
   "cell_type": "code",
   "execution_count": null,
   "metadata": {},
   "outputs": [],
   "source": []
  }
 ],
 "metadata": {
  "kernelspec": {
   "display_name": "base",
   "language": "python",
   "name": "python3"
  },
  "language_info": {
   "codemirror_mode": {
    "name": "ipython",
    "version": 3
   },
   "file_extension": ".py",
   "mimetype": "text/x-python",
   "name": "python",
   "nbconvert_exporter": "python",
   "pygments_lexer": "ipython3",
   "version": "3.8.8"
  },
  "orig_nbformat": 4
 },
 "nbformat": 4,
 "nbformat_minor": 2
}
