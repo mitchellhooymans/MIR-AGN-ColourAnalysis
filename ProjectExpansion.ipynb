{
 "cells": [
  {
   "cell_type": "markdown",
   "metadata": {},
   "source": [
    "# Extension Project \n",
    "## Part 1: Extending the Analysis of AGN to include the X-ray band.\n",
    "This script is intended to provide an extension of the work done in the first script. This extension in it's current form as no real aim and is intended to be exploratory. \n",
    "\n",
    "\n",
    "Notes for Project Extension \n",
    "* Finish off by fixing the Donley Selection\n",
    "    * If time permits add the Stern Selection\n",
    "* Maybe crossmatch with X-Ray data?\n",
    "    * Focus on one field, CDFS with XMM-Newton data\n",
    "    * chandra space 4Ms or 7Ms survey in topcat\n",
    "    * Make liberal use of the crossmatching feature in TOPCAT or similarly follow on with this project and use the crossmatching feature in python\n",
    "    * Use the XMM-Newton data to find the X-ray fluxes of the AGN\n",
    "    * Use the seleciton criteria in Cowley et al. 2016 to select AGN by Luminosity and Hardness Ratio.\n",
    "* Xray selection\n",
    "* AGN Selection using luminosity threshold (CDFS)\n",
    "* Possible UVJ selection\n",
    "    * Potentially contaiminated by dusty torus\n",
    "    * What we could do would be to first plot the UVJ diagram and see how the distribution looks in different redshift bins\n",
    "    * Then we could plot the UVJ diagram for the AGN selected by the X-ray luminosity and see how that compares to the general population\n",
    "    * we could also compare this to the IR selected AGNS, maybe using a subset of these AGN that are also X-ray selected.\n",
    "* Could also look at how star-formation rate is effected between xray agn or ir agn?\n",
    "\n",
    "\n",
    "HR <- Crossmatch the the HR from the XRAY ZFourge catalogue.\n",
    "\n"
   ]
  },
  {
   "cell_type": "markdown",
   "metadata": {},
   "source": [
    "# Cross Matching ZFOURGE with Chandra Data from the 4Ms Survey\n",
    "* Focus on one field, CDFS with Chandra Data\n",
    "* chandra space 4Ms survey in topcat (Check Paper)\n",
    "    * Use the 4Ms CDFS Survey data to find the X-ray luminosities of the AGN, HR, etc.\n",
    "* Make liberal use of the crossmatching feature in TOPCAT or similarly follow on with this project and create a cross-matching function in python\n",
    "* Use the seleciton criteria in Cowley et al. 2016 to select AGN by Luminosity and Hardness Ratio."
   ]
  },
  {
   "cell_type": "code",
   "execution_count": 2,
   "metadata": {},
   "outputs": [],
   "source": [
    "# Begin by importing the required packages for the project\n",
    "import numpy as np\n",
    "import scipy as sp\n",
    "import matplotlib.pyplot as plt\n",
    "import pandas as pd\n",
    "from astropy.io import fits\n",
    "import os"
   ]
  },
  {
   "cell_type": "code",
   "execution_count": 5,
   "metadata": {},
   "outputs": [
    {
     "data": {
      "text/plain": [
       "'03 31 35.79'"
      ]
     },
     "execution_count": 5,
     "metadata": {},
     "output_type": "execute_result"
    }
   ],
   "source": [
    "# Attempt to read in the fits file of the CDFS 7Ms survey or the Chandra 4Ms Survey.\n",
    "# Noting for the 7Ms survey the the there is a flux but not a value for lumunosity.\n",
    "\n",
    "# For now we will use the CDFS 4Ms survey (Xue et al. 2011)\n",
    "# importing the fits file and convert to a dataframe\n",
    "file_path = os.path.join('crossmatch\\CDFS_4Ms.fits')\n",
    "xray_fits = fits.open(file_path)\n",
    "xray_df = pd.DataFrame(np.array(xray_fits[1].data).byteswap().newbyteorder())  # Byteswap so that Pandas can read it\n",
    "\n",
    "## check the df\n",
    "a = xray_df['RAJ2000'].iloc[0]\n",
    "str(a.decode()) # decode the byte string, this will need to be done for everything that is a byte string\n",
    "\n"
   ]
  },
  {
   "cell_type": "code",
   "execution_count": 4,
   "metadata": {},
   "outputs": [],
   "source": [
    "# The idea is now that we want to read in our data and use the xray selection technique outlined by in the AGN selection paper (Cowley et al. 2016)"
   ]
  },
  {
   "cell_type": "code",
   "execution_count": null,
   "metadata": {},
   "outputs": [],
   "source": []
  }
 ],
 "metadata": {
  "kernelspec": {
   "display_name": "base",
   "language": "python",
   "name": "python3"
  },
  "language_info": {
   "codemirror_mode": {
    "name": "ipython",
    "version": 3
   },
   "file_extension": ".py",
   "mimetype": "text/x-python",
   "name": "python",
   "nbconvert_exporter": "python",
   "pygments_lexer": "ipython3",
   "version": "3.11.3"
  },
  "orig_nbformat": 4
 },
 "nbformat": 4,
 "nbformat_minor": 2
}
