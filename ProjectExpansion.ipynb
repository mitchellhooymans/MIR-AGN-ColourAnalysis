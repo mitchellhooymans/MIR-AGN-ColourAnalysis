{
 "cells": [
  {
   "cell_type": "markdown",
   "metadata": {},
   "source": [
    "# Extension Project \n",
    "## Part 1: Extending the Analysis of AGN to include the X-ray band.\n",
    "This script is intended to provide an extension of the work done in the first script. This extension in it's current form as no real aim and is intended to be exploratory. \n",
    "\n",
    "\n",
    "Notes for Project Extension \n",
    "* Finish off by fixing the Donley Selection\n",
    "    * If time permits add the Stern Selection\n",
    "* Maybe crossmatch with X-Ray data?\n",
    "    * Focus on one field, CDFS with XMM-Newton data\n",
    "    * chandra space 4Ms or 7Ms survey in topcat\n",
    "    * Make liberal use of the crossmatching feature in TOPCAT or similarly follow on with this project and use the crossmatching feature in python\n",
    "    * Use the XMM-Newton data to find the X-ray fluxes of the AGN\n",
    "    * Use the seleciton criteria in Cowley et al. 2016 to select AGN by Luminosity and Hardness Ratio.\n",
    "* Xray selection\n",
    "* AGN Selection using luminosity threshold (CDFS)\n",
    "* Possible UVJ selection\n",
    "    * Potentially contaiminated by dusty torus\n",
    "    * What we could do would be to first plot the UVJ diagram and see how the distribution looks in different redshift bins\n",
    "    * Then we could plot the UVJ diagram for the AGN selected by the X-ray luminosity and see how that compares to the general population\n",
    "    * we could also compare this to the IR selected AGNS, maybe using a subset of these AGN that are also X-ray selected.\n",
    "* Could also look at how star-formation rate is effected between xray agn or ir agn?\n",
    "\n",
    "\n",
    "HR <- Crossmatch the the HR from the XRAY ZFourge catalogue.\n",
    "\n"
   ]
  },
  {
   "cell_type": "markdown",
   "metadata": {},
   "source": [
    "# Cross Matching ZFOURGE with XMM-Newton Data\n",
    "* Focus on one field, CDFS with XMM-Newton data\n",
    "* chandra space 4Ms survey in topcat (Check Paper)\n",
    "    * Use the XMM-Newton data to find the X-ray fluxes of the AGN\n",
    "* Make liberal use of the crossmatching feature in TOPCAT or similarly follow on with this project and create a cross-matching function in python\n",
    "* Use the seleciton criteria in Cowley et al. 2016 to select AGN by Luminosity and Hardness Ratio."
   ]
  },
  {
   "cell_type": "code",
   "execution_count": 1,
   "metadata": {},
   "outputs": [],
   "source": [
    "# Import all the required libraries\n",
    "import numpy as np\n",
    "import pandas as pd\n",
    "import matplotlib.pyplot as plt\n",
    "import astropy as ap\n",
    "import os"
   ]
  },
  {
   "cell_type": "code",
   "execution_count": 2,
   "metadata": {},
   "outputs": [],
   "source": [
    "# Attempt to read in the fits file of the CDFS 7Ms survey\n"
   ]
  },
  {
   "cell_type": "code",
   "execution_count": 1,
   "metadata": {},
   "outputs": [
    {
     "ename": "NameError",
     "evalue": "name 'os' is not defined",
     "output_type": "error",
     "traceback": [
      "\u001b[1;31m---------------------------------------------------------------------------\u001b[0m",
      "\u001b[1;31mNameError\u001b[0m                                 Traceback (most recent call last)",
      "\u001b[1;32mc:\\Users\\Titan\\OneDrive\\Documents\\GitHub\\astrophysicscapstone\\ProjectExpansion.ipynb Cell 3\u001b[0m line \u001b[0;36m1\n\u001b[0;32m      <a href='vscode-notebook-cell:/c%3A/Users/Titan/OneDrive/Documents/GitHub/astrophysicscapstone/ProjectExpansion.ipynb#W2sZmlsZQ%3D%3D?line=7'>8</a>\u001b[0m field \u001b[39m=\u001b[39m \u001b[39m'\u001b[39m\u001b[39mCOSMOS\u001b[39m\u001b[39m'\u001b[39m\n\u001b[0;32m     <a href='vscode-notebook-cell:/c%3A/Users/Titan/OneDrive/Documents/GitHub/astrophysicscapstone/ProjectExpansion.ipynb#W2sZmlsZQ%3D%3D?line=9'>10</a>\u001b[0m \u001b[39m# Construct file paths using os.path.join() to make it platform-independent\u001b[39;00m\n\u001b[1;32m---> <a href='vscode-notebook-cell:/c%3A/Users/Titan/OneDrive/Documents/GitHub/astrophysicscapstone/ProjectExpansion.ipynb#W2sZmlsZQ%3D%3D?line=10'>11</a>\u001b[0m catalog_file \u001b[39m=\u001b[39m os\u001b[39m.\u001b[39mpath\u001b[39m.\u001b[39mjoin(zfourge_fields[field][\u001b[39m0\u001b[39m])\n\u001b[0;32m     <a href='vscode-notebook-cell:/c%3A/Users/Titan/OneDrive/Documents/GitHub/astrophysicscapstone/ProjectExpansion.ipynb#W2sZmlsZQ%3D%3D?line=11'>12</a>\u001b[0m eazy_file \u001b[39m=\u001b[39m os\u001b[39m.\u001b[39mpath\u001b[39m.\u001b[39mjoin(zfourge_fields[field][\u001b[39m1\u001b[39m])\n\u001b[0;32m     <a href='vscode-notebook-cell:/c%3A/Users/Titan/OneDrive/Documents/GitHub/astrophysicscapstone/ProjectExpansion.ipynb#W2sZmlsZQ%3D%3D?line=12'>13</a>\u001b[0m sfr_file \u001b[39m=\u001b[39m os\u001b[39m.\u001b[39mpath\u001b[39m.\u001b[39mjoin(zfourge_fields[field][\u001b[39m2\u001b[39m])\n",
      "\u001b[1;31mNameError\u001b[0m: name 'os' is not defined"
     ]
    }
   ],
   "source": [
    "# # Import the data in the fields\n",
    "# zfourge_fields = {\n",
    "#     'CDFS': ['cdfs/cdfs.v1.6.11.cat', 'cdfs/cdfs.v1.6.9.zout', 'cdfs/cdfs.v1.6.9.sfr.v0.4.cat','cdfs/cdfs.v1.6.9.rest.v0.9.cat','cdfs/cdfs.v1.6.9.xray.v0.4.cat'],\n",
    "#     'COSMOS': ['cosmos/cosmos.v1.3.8.cat', 'cosmos/cosmos.v1.3.6.zout', 'cosmos/cosmos.v1.3.6.sfr.v0.4.cat', 'cosmos/cosmos.v1.3.6.rest.v0.9.cat','cosmos/cosmos.v1.3.6.xray.v0.4.cat'],\n",
    "#     'UDS': ['uds/uds.v1.5.10.cat', 'uds/uds.v1.5.8.zout', 'uds/uds.v1.5.8.sfr.v0.4.cat', 'uds/uds.v1.5.8.rest.v0.9.cat', 'uds/uds.v1.5.8.xray.v0.4.cat']\n",
    "# }\n",
    "\n",
    "# field = 'COSMOS'\n",
    "\n",
    "# # Construct file paths using os.path.join() to make it platform-independent\n",
    "# catalog_file = os.path.join(zfourge_fields[field][0])\n",
    "# eazy_file = os.path.join(zfourge_fields[field][1])\n",
    "# sfr_file = os.path.join(zfourge_fields[field][2])\n",
    "# #flux_file = os.path.join(zfourge_fields[field][3])\n",
    "# #xray_file = os.path.join(zfourge_fields[field][4])\n",
    "\n",
    "\n",
    "\n",
    "\n",
    "\n",
    "\n",
    "\n",
    "\n",
    "# # Read the files into DataFrames\n",
    "# df = pd.DataFrame(np.genfromtxt(catalog_file, names=True, dtype=None, encoding='ascii'))\n",
    "# eazy_df = pd.DataFrame(np.genfromtxt(eazy_file, names=True, dtype=None, encoding='ascii'))\n",
    "# sfr_df = pd.DataFrame(np.genfromtxt(sfr_file, names=True, dtype=None, encoding='ascii'))\n",
    "# # flux_df = pd.DataFrame(np.genfromtxt(flux_file, names=True, dtype=None, encoding='ascii'))\n",
    "# # xray_df = pd.DataFrame(np.genfromtxt(xray_file, names=True, dtype=None, encoding='ascii'))\n"
   ]
  },
  {
   "cell_type": "code",
   "execution_count": 19,
   "metadata": {},
   "outputs": [
    {
     "ename": "KeyError",
     "evalue": "0",
     "output_type": "error",
     "traceback": [
      "\u001b[1;31m---------------------------------------------------------------------------\u001b[0m",
      "\u001b[1;31mKeyError\u001b[0m                                  Traceback (most recent call last)",
      "File \u001b[1;32mc:\\Users\\Titan\\Anaconda3\\Lib\\site-packages\\pandas\\core\\indexes\\base.py:3802\u001b[0m, in \u001b[0;36mIndex.get_loc\u001b[1;34m(self, key, method, tolerance)\u001b[0m\n\u001b[0;32m   3801\u001b[0m \u001b[39mtry\u001b[39;00m:\n\u001b[1;32m-> 3802\u001b[0m     \u001b[39mreturn\u001b[39;00m \u001b[39mself\u001b[39m\u001b[39m.\u001b[39m_engine\u001b[39m.\u001b[39mget_loc(casted_key)\n\u001b[0;32m   3803\u001b[0m \u001b[39mexcept\u001b[39;00m \u001b[39mKeyError\u001b[39;00m \u001b[39mas\u001b[39;00m err:\n",
      "File \u001b[1;32mc:\\Users\\Titan\\Anaconda3\\Lib\\site-packages\\pandas\\_libs\\index.pyx:138\u001b[0m, in \u001b[0;36mpandas._libs.index.IndexEngine.get_loc\u001b[1;34m()\u001b[0m\n",
      "File \u001b[1;32mc:\\Users\\Titan\\Anaconda3\\Lib\\site-packages\\pandas\\_libs\\index.pyx:165\u001b[0m, in \u001b[0;36mpandas._libs.index.IndexEngine.get_loc\u001b[1;34m()\u001b[0m\n",
      "File \u001b[1;32mpandas\\_libs\\hashtable_class_helper.pxi:5745\u001b[0m, in \u001b[0;36mpandas._libs.hashtable.PyObjectHashTable.get_item\u001b[1;34m()\u001b[0m\n",
      "File \u001b[1;32mpandas\\_libs\\hashtable_class_helper.pxi:5753\u001b[0m, in \u001b[0;36mpandas._libs.hashtable.PyObjectHashTable.get_item\u001b[1;34m()\u001b[0m\n",
      "\u001b[1;31mKeyError\u001b[0m: 0",
      "\nThe above exception was the direct cause of the following exception:\n",
      "\u001b[1;31mKeyError\u001b[0m                                  Traceback (most recent call last)",
      "\u001b[1;32mUntitled-1.ipynb Cell 4\u001b[0m line \u001b[0;36m1\n\u001b[1;32m----> <a href='vscode-notebook-cell:Untitled-1.ipynb?jupyter-notebook#W3sdW50aXRsZWQ%3D?line=0'>1</a>\u001b[0m flux_df[\u001b[39m0\u001b[39m]\n",
      "File \u001b[1;32mc:\\Users\\Titan\\Anaconda3\\Lib\\site-packages\\pandas\\core\\frame.py:3807\u001b[0m, in \u001b[0;36mDataFrame.__getitem__\u001b[1;34m(self, key)\u001b[0m\n\u001b[0;32m   3805\u001b[0m \u001b[39mif\u001b[39;00m \u001b[39mself\u001b[39m\u001b[39m.\u001b[39mcolumns\u001b[39m.\u001b[39mnlevels \u001b[39m>\u001b[39m \u001b[39m1\u001b[39m:\n\u001b[0;32m   3806\u001b[0m     \u001b[39mreturn\u001b[39;00m \u001b[39mself\u001b[39m\u001b[39m.\u001b[39m_getitem_multilevel(key)\n\u001b[1;32m-> 3807\u001b[0m indexer \u001b[39m=\u001b[39m \u001b[39mself\u001b[39m\u001b[39m.\u001b[39mcolumns\u001b[39m.\u001b[39mget_loc(key)\n\u001b[0;32m   3808\u001b[0m \u001b[39mif\u001b[39;00m is_integer(indexer):\n\u001b[0;32m   3809\u001b[0m     indexer \u001b[39m=\u001b[39m [indexer]\n",
      "File \u001b[1;32mc:\\Users\\Titan\\Anaconda3\\Lib\\site-packages\\pandas\\core\\indexes\\base.py:3804\u001b[0m, in \u001b[0;36mIndex.get_loc\u001b[1;34m(self, key, method, tolerance)\u001b[0m\n\u001b[0;32m   3802\u001b[0m     \u001b[39mreturn\u001b[39;00m \u001b[39mself\u001b[39m\u001b[39m.\u001b[39m_engine\u001b[39m.\u001b[39mget_loc(casted_key)\n\u001b[0;32m   3803\u001b[0m \u001b[39mexcept\u001b[39;00m \u001b[39mKeyError\u001b[39;00m \u001b[39mas\u001b[39;00m err:\n\u001b[1;32m-> 3804\u001b[0m     \u001b[39mraise\u001b[39;00m \u001b[39mKeyError\u001b[39;00m(key) \u001b[39mfrom\u001b[39;00m \u001b[39merr\u001b[39;00m\n\u001b[0;32m   3805\u001b[0m \u001b[39mexcept\u001b[39;00m \u001b[39mTypeError\u001b[39;00m:\n\u001b[0;32m   3806\u001b[0m     \u001b[39m# If we have a listlike key, _check_indexing_error will raise\u001b[39;00m\n\u001b[0;32m   3807\u001b[0m     \u001b[39m#  InvalidIndexError. Otherwise we fall through and re-raise\u001b[39;00m\n\u001b[0;32m   3808\u001b[0m     \u001b[39m#  the TypeError.\u001b[39;00m\n\u001b[0;32m   3809\u001b[0m     \u001b[39mself\u001b[39m\u001b[39m.\u001b[39m_check_indexing_error(key)\n",
      "\u001b[1;31mKeyError\u001b[0m: 0"
     ]
    }
   ],
   "source": []
  },
  {
   "cell_type": "code",
   "execution_count": null,
   "metadata": {},
   "outputs": [],
   "source": []
  }
 ],
 "metadata": {
  "kernelspec": {
   "display_name": "base",
   "language": "python",
   "name": "python3"
  },
  "language_info": {
   "codemirror_mode": {
    "name": "ipython",
    "version": 3
   },
   "file_extension": ".py",
   "mimetype": "text/x-python",
   "name": "python",
   "nbconvert_exporter": "python",
   "pygments_lexer": "ipython3",
   "version": "3.11.3"
  },
  "orig_nbformat": 4
 },
 "nbformat": 4,
 "nbformat_minor": 2
}
