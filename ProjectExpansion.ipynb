{
 "cells": [
  {
   "cell_type": "markdown",
   "metadata": {},
   "source": [
    "# Extension Project \n",
    "## Part 1: Extending the Analysis of AGN to include the X-ray band.\n",
    "This script is intended to provide an extension of the work done in the first script. This extension in it's current form as no real aim and is intended to be exploratory. \n",
    "\n",
    "\n",
    "Notes for Project Extension \n",
    "* Finish off by fixing the Donley Selection\n",
    "    * If time permits add the Stern Selection\n",
    "* Maybe crossmatch with X-Ray data?\n",
    "    * Focus on one field, CDFS with XMM-Newton data\n",
    "    * chandra space 4Ms or 7Ms survey in topcat\n",
    "    * Make liberal use of the crossmatching feature in TOPCAT or similarly follow on with this project and use the crossmatching feature in python\n",
    "    * Use the XMM-Newton data to find the X-ray fluxes of the AGN\n",
    "    * Use the seleciton criteria in Cowley et al. 2016 to select AGN by Luminosity and Hardness Ratio.\n",
    "* Xray selection\n",
    "* AGN Selection using luminosity threshold (CDFS)\n",
    "* Possible UVJ selection\n",
    "    * Potentially contaiminated by dusty torus\n",
    "    * What we could do would be to first plot the UVJ diagram and see how the distribution looks in different redshift bins\n",
    "    * Then we could plot the UVJ diagram for the AGN selected by the X-ray luminosity and see how that compares to the general population\n",
    "    * we could also compare this to the IR selected AGNS, maybe using a subset of these AGN that are also X-ray selected.\n",
    "* Could also look at how star-formation rate is effected between xray agn or ir agn?\n",
    "\n",
    "\n",
    "HR <- Crossmatch the the HR from the XRAY ZFourge catalogue.\n",
    "\n"
   ]
  },
  {
   "cell_type": "markdown",
   "metadata": {},
   "source": [
    "# Cross Matching ZFOURGE with Chandra Data from the 4Ms Survey\n",
    "* Focus on one field, CDFS with Chandra Data\n",
    "* chandra space 4Ms survey in topcat (Check Paper)\n",
    "    * Use the 4Ms CDFS Survey data to find the X-ray luminosities of the AGN, HR, etc.\n",
    "* Make liberal use of the crossmatching feature in TOPCAT or similarly follow on with this project and create a cross-matching function in python\n",
    "* Use the seleciton criteria in Cowley et al. 2016 to select AGN by Luminosity and Hardness Ratio."
   ]
  },
  {
   "cell_type": "code",
   "execution_count": 411,
   "metadata": {},
   "outputs": [],
   "source": [
    "# Begin by importing the required packages for the project\n",
    "import numpy as np\n",
    "import scipy as sp\n",
    "import matplotlib.pyplot as plt\n",
    "import pandas as pd\n",
    "from astropy.io import fits\n",
    "import os\n",
    "import astropy.units as u\n",
    "from astropy.coordinates import SkyCoord\n",
    "from astropy.coordinates import Angle"
   ]
  },
  {
   "cell_type": "code",
   "execution_count": 412,
   "metadata": {},
   "outputs": [],
   "source": [
    "# Attempt to read in the fits file of the CDFS 7Ms survey or the Chandra 4Ms Survey.\n",
    "# Noting for the 7Ms survey the the there is a flux but not a value for lumunosity.\n",
    "\n",
    "# For now we will use the CDFS 4Ms survey (Xue et al. 2011)\n",
    "# importing the fits file and convert to a dataframe\n",
    "file_path = os.path.join('crossmatch\\CDFS_4Ms.fits')\n",
    "xray_fits = fits.open(file_path)\n",
    "xray_df = pd.DataFrame(np.array(xray_fits[1].data).byteswap().newbyteorder())  # Byteswap so that Pandas can read it\n",
    "\n",
    "file_path = os.path.join('cdfs\\cdfs_fluxes.fits')\n",
    "fluxes_fits = fits.open(file_path)\n",
    "fluxes_df = pd.DataFrame(np.array(fluxes_fits[1].data).byteswap().newbyteorder())  # Byteswap so that Pandas can read it\n"
   ]
  },
  {
   "cell_type": "code",
   "execution_count": 413,
   "metadata": {},
   "outputs": [],
   "source": [
    "element1 = xray_df.iloc[0]\n",
    "#str(a.decode()) # decode the byte string, this will need to be done for everything that is a byte string\n",
    "\n"
   ]
  },
  {
   "cell_type": "code",
   "execution_count": 414,
   "metadata": {},
   "outputs": [],
   "source": [
    "fluxes_df = fluxes_df.rename(columns={'Seq':'id'})"
   ]
  },
  {
   "cell_type": "code",
   "execution_count": 415,
   "metadata": {},
   "outputs": [],
   "source": [
    "# We now want to read in the CDFS field from the ZFOURGE survey catalogue and do a cross match\n",
    "# on this particular dataset\n",
    "\n",
    "catalog_file = os.path.join('cdfs/cdfs.v1.6.11.cat')\n",
    "cdfs_df = pd.DataFrame(np.genfromtxt(catalog_file, names=True, dtype=None, encoding='ascii'))\n",
    "cdfs_df.head()\n",
    "\n",
    "# join the cdfs_df with the flux df, but only add the HR column\n",
    "cdfs_df = pd.merge(cdfs_df, fluxes_df[['id', 'HR']], on='id')\n"
   ]
  },
  {
   "cell_type": "code",
   "execution_count": 416,
   "metadata": {},
   "outputs": [
    {
     "name": "stdout",
     "output_type": "stream",
     "text": [
      "Index(['recno', 'n_ID', 'ID', 'RAJ2000', 'DEJ2000', 'ePos', 'log(P)',\n",
      "       'log(Pm)', 'OffAng', 'Fcts', 'E_Fcts', 'e_Fcts', 'Scts', 'E_Scts',\n",
      "       'e_Scts', 'Hcts', 'E_Hcts', 'e_Hcts', 'Fext', 'RAC', 'DEC', 'C-off',\n",
      "       'Cmag', 'Nx', 'Ccat', 'RAW', 'DEW', 'Wmag', 'RAGD', 'DEGD', 'GDmag',\n",
      "       'RAG', 'DEG', 'Gmag', 'RAM', 'DEM', 'Mmag', 'RAMY', 'DEMY', 'MYmag',\n",
      "       'RAS', 'DES', 'Smag', 'RAV', 'DEV', 'Vmag', 'zsp', 'q_zsp', 'r_zsp',\n",
      "       'zphl', 'b_zphl', 'B_zphl', 'zphla', 'zphc', 'b_zphc', 'B_zphc',\n",
      "       'q_zphc', 'zphr', 'b_zphr', 'B_zphr', 'zadopt', 'L8', 'RAL8', 'DEL8',\n",
      "       'L5', 'RAL5', 'DEL5', 'FExp', 'SExp', 'HExp', 'BRat', 'E_BRat',\n",
      "       'e_BRat', 'PInd', 'EPInd', 'ePInd', 'FFlux', 'SFlux', 'HFlux', 'Lx',\n",
      "       'OType', 'Notes', 'Simbad'],\n",
      "      dtype='object')\n"
     ]
    }
   ],
   "source": [
    "print(xray_df.columns)"
   ]
  },
  {
   "cell_type": "markdown",
   "metadata": {},
   "source": [
    "## Convert RA and DEC columns from HMS and DMS to Decimal Degrees\n",
    "as both RA and DEC columns are reporting values in HMS and DMS formats respectively, and the ZFOURGE survey is reporting values in decimal degrees, we convert to decimal degrees to make crossmatching easier. "
   ]
  },
  {
   "cell_type": "code",
   "execution_count": 417,
   "metadata": {},
   "outputs": [],
   "source": [
    "\n",
    "\n",
    "def HMS_to_DD(x):\n",
    "    # Define your DMS string\n",
    "    # Define your HMS string\n",
    "    hms_str = x.decode()  # Example HMS string\n",
    "\n",
    "    # Create an Angle object from the HMS string\n",
    "    angle = Angle(hms_str, unit='hourangle')\n",
    "\n",
    "    # Get the angle in decimal degrees\n",
    "    decimal_degrees = angle.degree\n",
    "    \n",
    "    return decimal_degrees\n",
    "\n",
    "\n",
    "def DMS_to_DD(x):\n",
    "    dms_str = x.decode()  # Example DMS string\n",
    "\n",
    "    # Create an Angle object from the DMS string\n",
    "    angle = Angle(dms_str, unit='degree')\n",
    "\n",
    "    # Get the angle in decimal degrees\n",
    "    decimal_degrees = angle.degree\n",
    "    \n",
    "    \n",
    "    return decimal_degrees\n",
    "\n"
   ]
  },
  {
   "cell_type": "code",
   "execution_count": 418,
   "metadata": {},
   "outputs": [],
   "source": [
    "xray_df['RAJ2000'] = xray_df['RAJ2000'].apply(HMS_to_DD)\n",
    "xray_df['DEJ2000'] = xray_df['DEJ2000'].apply(DMS_to_DD)\n"
   ]
  },
  {
   "cell_type": "code",
   "execution_count": 419,
   "metadata": {},
   "outputs": [
    {
     "data": {
      "text/html": [
       "<div>\n",
       "<style scoped>\n",
       "    .dataframe tbody tr th:only-of-type {\n",
       "        vertical-align: middle;\n",
       "    }\n",
       "\n",
       "    .dataframe tbody tr th {\n",
       "        vertical-align: top;\n",
       "    }\n",
       "\n",
       "    .dataframe thead th {\n",
       "        text-align: right;\n",
       "    }\n",
       "</style>\n",
       "<table border=\"1\" class=\"dataframe\">\n",
       "  <thead>\n",
       "    <tr style=\"text-align: right;\">\n",
       "      <th></th>\n",
       "      <th>recno</th>\n",
       "      <th>n_ID</th>\n",
       "      <th>ID</th>\n",
       "      <th>RAJ2000</th>\n",
       "      <th>DEJ2000</th>\n",
       "      <th>ePos</th>\n",
       "      <th>log(P)</th>\n",
       "      <th>log(Pm)</th>\n",
       "      <th>OffAng</th>\n",
       "      <th>Fcts</th>\n",
       "      <th>...</th>\n",
       "      <th>PInd</th>\n",
       "      <th>EPInd</th>\n",
       "      <th>ePInd</th>\n",
       "      <th>FFlux</th>\n",
       "      <th>SFlux</th>\n",
       "      <th>HFlux</th>\n",
       "      <th>Lx</th>\n",
       "      <th>OType</th>\n",
       "      <th>Notes</th>\n",
       "      <th>Simbad</th>\n",
       "    </tr>\n",
       "  </thead>\n",
       "  <tbody>\n",
       "    <tr>\n",
       "      <th>0</th>\n",
       "      <td>1</td>\n",
       "      <td>b'M'</td>\n",
       "      <td>1</td>\n",
       "      <td>52.899125</td>\n",
       "      <td>-27.860000</td>\n",
       "      <td>0.5</td>\n",
       "      <td>NaN</td>\n",
       "      <td>-8</td>\n",
       "      <td>11.98</td>\n",
       "      <td>186.77</td>\n",
       "      <td>...</td>\n",
       "      <td>1.61</td>\n",
       "      <td>1.85</td>\n",
       "      <td>1.39</td>\n",
       "      <td>1.800000e-14</td>\n",
       "      <td>6.400000e-15</td>\n",
       "      <td>1.100000e-14</td>\n",
       "      <td>2.900000e+44</td>\n",
       "      <td>b'AGN'</td>\n",
       "      <td>b'-'</td>\n",
       "      <td>b'Simbad'</td>\n",
       "    </tr>\n",
       "    <tr>\n",
       "      <th>1</th>\n",
       "      <td>2</td>\n",
       "      <td>b'M'</td>\n",
       "      <td>2</td>\n",
       "      <td>52.917167</td>\n",
       "      <td>-27.796278</td>\n",
       "      <td>0.5</td>\n",
       "      <td>-30.9</td>\n",
       "      <td>-8</td>\n",
       "      <td>10.62</td>\n",
       "      <td>155.73</td>\n",
       "      <td>...</td>\n",
       "      <td>1.68</td>\n",
       "      <td>2.03</td>\n",
       "      <td>1.39</td>\n",
       "      <td>5.800000e-15</td>\n",
       "      <td>2.200000e-15</td>\n",
       "      <td>3.500000e-15</td>\n",
       "      <td>3.000000e+44</td>\n",
       "      <td>b'AGN'</td>\n",
       "      <td>b'-'</td>\n",
       "      <td>b'Simbad'</td>\n",
       "    </tr>\n",
       "    <tr>\n",
       "      <th>2</th>\n",
       "      <td>3</td>\n",
       "      <td>b'M'</td>\n",
       "      <td>3</td>\n",
       "      <td>52.920875</td>\n",
       "      <td>-27.742972</td>\n",
       "      <td>0.6</td>\n",
       "      <td>-15.6</td>\n",
       "      <td>-8</td>\n",
       "      <td>11.10</td>\n",
       "      <td>96.46</td>\n",
       "      <td>...</td>\n",
       "      <td>0.49</td>\n",
       "      <td>0.74</td>\n",
       "      <td>0.24</td>\n",
       "      <td>1.200000e-14</td>\n",
       "      <td>1.200000e-15</td>\n",
       "      <td>9.800000e-15</td>\n",
       "      <td>NaN</td>\n",
       "      <td>b'AGN'</td>\n",
       "      <td>b'-'</td>\n",
       "      <td>b'Simbad'</td>\n",
       "    </tr>\n",
       "    <tr>\n",
       "      <th>3</th>\n",
       "      <td>4</td>\n",
       "      <td>b'M'</td>\n",
       "      <td>4</td>\n",
       "      <td>52.930208</td>\n",
       "      <td>-27.901556</td>\n",
       "      <td>0.8</td>\n",
       "      <td>-6.5</td>\n",
       "      <td>-5</td>\n",
       "      <td>11.41</td>\n",
       "      <td>54.11</td>\n",
       "      <td>...</td>\n",
       "      <td>0.36</td>\n",
       "      <td>0.36</td>\n",
       "      <td>0.36</td>\n",
       "      <td>8.200000e-15</td>\n",
       "      <td>-8.700000e-16</td>\n",
       "      <td>8.700000e-15</td>\n",
       "      <td>1.100000e+44</td>\n",
       "      <td>b'AGN'</td>\n",
       "      <td>b'-'</td>\n",
       "      <td>b'Simbad'</td>\n",
       "    </tr>\n",
       "    <tr>\n",
       "      <th>4</th>\n",
       "      <td>5</td>\n",
       "      <td>b'M'</td>\n",
       "      <td>5</td>\n",
       "      <td>52.930917</td>\n",
       "      <td>-27.851056</td>\n",
       "      <td>0.5</td>\n",
       "      <td>-5.9</td>\n",
       "      <td>-8</td>\n",
       "      <td>10.21</td>\n",
       "      <td>108.99</td>\n",
       "      <td>...</td>\n",
       "      <td>0.48</td>\n",
       "      <td>0.88</td>\n",
       "      <td>0.10</td>\n",
       "      <td>1.500000e-15</td>\n",
       "      <td>1.500000e-16</td>\n",
       "      <td>1.300000e-15</td>\n",
       "      <td>NaN</td>\n",
       "      <td>b'AGN'</td>\n",
       "      <td>b'-'</td>\n",
       "      <td>b'Simbad'</td>\n",
       "    </tr>\n",
       "  </tbody>\n",
       "</table>\n",
       "<p>5 rows × 83 columns</p>\n",
       "</div>"
      ],
      "text/plain": [
       "   recno  n_ID  ID    RAJ2000    DEJ2000  ePos  log(P)  log(Pm)  OffAng  \\\n",
       "0      1  b'M'   1  52.899125 -27.860000   0.5     NaN       -8   11.98   \n",
       "1      2  b'M'   2  52.917167 -27.796278   0.5   -30.9       -8   10.62   \n",
       "2      3  b'M'   3  52.920875 -27.742972   0.6   -15.6       -8   11.10   \n",
       "3      4  b'M'   4  52.930208 -27.901556   0.8    -6.5       -5   11.41   \n",
       "4      5  b'M'   5  52.930917 -27.851056   0.5    -5.9       -8   10.21   \n",
       "\n",
       "     Fcts  ...  PInd  EPInd  ePInd         FFlux         SFlux         HFlux  \\\n",
       "0  186.77  ...  1.61   1.85   1.39  1.800000e-14  6.400000e-15  1.100000e-14   \n",
       "1  155.73  ...  1.68   2.03   1.39  5.800000e-15  2.200000e-15  3.500000e-15   \n",
       "2   96.46  ...  0.49   0.74   0.24  1.200000e-14  1.200000e-15  9.800000e-15   \n",
       "3   54.11  ...  0.36   0.36   0.36  8.200000e-15 -8.700000e-16  8.700000e-15   \n",
       "4  108.99  ...  0.48   0.88   0.10  1.500000e-15  1.500000e-16  1.300000e-15   \n",
       "\n",
       "             Lx   OType  Notes     Simbad  \n",
       "0  2.900000e+44  b'AGN'   b'-'  b'Simbad'  \n",
       "1  3.000000e+44  b'AGN'   b'-'  b'Simbad'  \n",
       "2           NaN  b'AGN'   b'-'  b'Simbad'  \n",
       "3  1.100000e+44  b'AGN'   b'-'  b'Simbad'  \n",
       "4           NaN  b'AGN'   b'-'  b'Simbad'  \n",
       "\n",
       "[5 rows x 83 columns]"
      ]
     },
     "execution_count": 419,
     "metadata": {},
     "output_type": "execute_result"
    }
   ],
   "source": [
    "# Inspect the dataframe\n",
    "xray_df.head()"
   ]
  },
  {
   "cell_type": "code",
   "execution_count": 420,
   "metadata": {},
   "outputs": [
    {
     "data": {
      "text/plain": [
       "0.06568933968520768"
      ]
     },
     "execution_count": 420,
     "metadata": {},
     "output_type": "execute_result"
    }
   ],
   "source": [
    "# We now use skycoord to use the converted values to create a skycoord object and find the seperation \n",
    "# we can see how this is done with an example below\n",
    "c1 = SkyCoord(xray_df['RAJ2000'][0]*u.degree, xray_df['DEJ2000'][0]*u.degree, unit='deg', frame='fk5')\n",
    "c2 =SkyCoord(xray_df['RAJ2000'][1]*u.degree, xray_df['DEJ2000'][1]*u.degree, unit='deg', frame='fk5')\n",
    "c1.separation(c2).degree\n"
   ]
  },
  {
   "cell_type": "markdown",
   "metadata": {},
   "source": [
    "## Attempt to crossmatch ZFOURGE and CDFS 4Ms Survey"
   ]
  },
  {
   "cell_type": "code",
   "execution_count": 421,
   "metadata": {},
   "outputs": [],
   "source": [
    "cdfs_ra = np.array(cdfs_df['ra'])\n",
    "cdfs_dec = np.array(cdfs_df['dec'])\n",
    "\n",
    "\n",
    "\n",
    "xray_ra = np.array(xray_df['RAJ2000'])\n",
    "xray_dec = np.array(xray_df['DEJ2000'])"
   ]
  },
  {
   "cell_type": "code",
   "execution_count": 422,
   "metadata": {},
   "outputs": [],
   "source": [
    "max_sep = 1 * u.arcsec # maximum amount of seperation accetable for the crossmatch\n",
    "\n",
    "\n",
    "cdfs_catalog  = SkyCoord(cdfs_ra*u.degree, cdfs_dec*u.degree, frame='fk5')\n",
    "xray_catalog = SkyCoord(xray_ra*u.degree, xray_dec*u.degree, frame='fk5')\n",
    "idx, d2d, d3d = xray_catalog.match_to_catalog_sky(cdfs_catalog)\n",
    "#idx1, d2d1, d3d1 = catalog.match_to_catalog_sky(c)\n",
    "sep_constraint = d2d < max_sep\n",
    "xray_catalog_filter = xray_catalog[sep_constraint]\n",
    "cdfs_catalog_matches = cdfs_catalog[idx[sep_constraint]]\n"
   ]
  },
  {
   "cell_type": "code",
   "execution_count": 423,
   "metadata": {},
   "outputs": [
    {
     "data": {
      "text/plain": [
       "Text(0.5, 1.0, 'CDFS 4Ms X-ray Sources XMatched to ZFOURGE Catalogue')"
      ]
     },
     "execution_count": 423,
     "metadata": {},
     "output_type": "execute_result"
    },
    {
     "data": {
      "image/png": "[encoded data removed]",
      "text/plain": [
       "<Figure size 432x288 with 1 Axes>"
      ]
     },
     "metadata": {
      "needs_background": "light"
     },
     "output_type": "display_data"
    }
   ],
   "source": [
    "## for the cdfs cat\n",
    "cdfs_catalog_matches\n",
    "indicies_to_crossmatch = idx[sep_constraint]\n",
    "\n",
    "## for the CDFS 4Ms cat\n",
    "idx2, d2d2, d3d2 = cdfs_catalog.match_to_catalog_sky(xray_catalog)\n",
    "sep_constraint2 = d2d2 < max_sep\n",
    "xray_catalog_matches = xray_catalog[idx2[sep_constraint2]]\n",
    "xray_indicies_to_crossmatch = idx2[sep_constraint2]\n",
    "\n",
    "plt.plot(cdfs_catalog_matches.ra, cdfs_catalog_matches.dec, 'b.')\n",
    "plt.xlabel('RA')\n",
    "plt.ylabel('Dec')\n",
    "plt.title('CDFS 4Ms X-ray Sources XMatched to ZFOURGE Catalogue')\n"
   ]
  },
  {
   "cell_type": "code",
   "execution_count": 424,
   "metadata": {},
   "outputs": [
    {
     "data": {
      "text/plain": [
       "Text(0.5, 1.0, 'Separation of X-ray Sources from ZFOURGE Catalogue Sources')"
      ]
     },
     "execution_count": 424,
     "metadata": {},
     "output_type": "execute_result"
    },
    {
     "data": {
      "image/png": "[encoded data removed]",
      "text/plain": [
       "<Figure size 720x504 with 1 Axes>"
      ]
     },
     "metadata": {
      "needs_background": "light"
     },
     "output_type": "display_data"
    }
   ],
   "source": [
    "sep = cdfs_catalog_matches.separation(xray_catalog_filter).arcsecond\n",
    "num_bins = 50\n",
    "\n",
    "plt.figure(figsize=(10,7))\n",
    "plt.hist(sep,bins=num_bins, edgecolor='k', alpha=0.7, color='blue', linewidth=1.2)\n",
    "plt.xlabel('Separation (arcseconds)')\n",
    "plt.ylabel('Frequency')\n",
    "plt.title('Separation of X-ray Sources from ZFOURGE Catalogue Sources')"
   ]
  },
  {
   "cell_type": "code",
   "execution_count": 425,
   "metadata": {},
   "outputs": [],
   "source": [
    "matched_xray_df = xray_df[sep_constraint]\n",
    "matched_cdfs_df = cdfs_df.iloc[idx[sep_constraint]].reset_index(drop=True)\n",
    "matched_xray_df\n",
    "matched_cdfs_df\n",
    "matched_xray_df = matched_xray_df.reset_index(drop=True)\n",
    "combined_df = pd.concat([matched_cdfs_df, matched_xray_df], axis=1)\n",
    "combined_df['Separation'] = sep"
   ]
  },
  {
   "cell_type": "code",
   "execution_count": 426,
   "metadata": {},
   "outputs": [
    {
     "data": {
      "text/plain": [
       "Text(0, 0.5, 'Dec')"
      ]
     },
     "execution_count": 426,
     "metadata": {},
     "output_type": "execute_result"
    },
    {
     "data": {
      "image/png": "[encoded data removed]",
      "text/plain": [
       "<Figure size 720x504 with 1 Axes>"
      ]
     },
     "metadata": {
      "needs_background": "light"
     },
     "output_type": "display_data"
    }
   ],
   "source": [
    "plt.figure(figsize=(10,7))\n",
    "\n",
    "# Try plotting both ra and dec on the same plot for each survey\n",
    "plt.plot(combined_df['ra'], combined_df['dec'], 'b.')\n",
    "plt.plot(combined_df['RAJ2000'], combined_df['DEJ2000'], 'r.')\n",
    "plt.title('CDFS 4Ms X-ray Sources XMatched to ZFOURGE Catalogue')\n",
    "plt.xlabel('RA')\n",
    "plt.ylabel('Dec')"
   ]
  },
  {
   "cell_type": "markdown",
   "metadata": {},
   "source": [
    "Thus we can see that this is well matched between the dataframes. Now we should be able to use the values for luminosity, and potentially hardness (this may require more crossmatching) to select AGN."
   ]
  },
  {
   "cell_type": "code",
   "execution_count": 444,
   "metadata": {},
   "outputs": [],
   "source": [
    "# Remove all null hardness ratios \n",
    "combined_df = combined_df[combined_df['HR'].isnull() == False]\n"
   ]
  }
 ],
 "metadata": {
  "kernelspec": {
   "display_name": "base",
   "language": "python",
   "name": "python3"
  },
  "language_info": {
   "codemirror_mode": {
    "name": "ipython",
    "version": 3
   },
   "file_extension": ".py",
   "mimetype": "text/x-python",
   "name": "python",
   "nbconvert_exporter": "python",
   "pygments_lexer": "ipython3",
   "version": "3.8.8"
  },
  "orig_nbformat": 4
 },
 "nbformat": 4,
 "nbformat_minor": 2
}
