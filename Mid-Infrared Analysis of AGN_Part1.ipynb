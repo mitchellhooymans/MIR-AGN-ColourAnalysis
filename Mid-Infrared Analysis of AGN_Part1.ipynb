{
 "cells": [
  {
   "cell_type": "markdown",
   "metadata": {},
   "source": [
    "# A Mid-Infrared Analysis of Accreeting Supermassive Black Holes \n",
    "## Utilzing Diagnostic Tools to Identify Active Galactic Nuclei (AGN)\n",
    "### Part 1: Mid-Infrared Color-Color Diagrams and Selecting AGN Candidates\n",
    "Energy is released by AGN in the form of radiation, winds or plasma jets. This is known to have an impact on the sorrounding environment, subsequently this can affect the evolution of a galaxy in a number of ways. \n",
    "\n",
    "This script will involve applying a number of diagnostic tools to identify the pressence of an AGN in when detection is made in a survey.\n",
    "\n",
    "This script makes use of multiwavelength data and applys the diagnostics to the ZFOURGE catalogue, specifically in the CDFS, COSMOS, and UDS fields."
   ]
  },
  {
   "cell_type": "code",
   "execution_count": 304,
   "metadata": {},
   "outputs": [],
   "source": [
    "# Begin by importing the required packages for the project\n",
    "import numpy as np\n",
    "import scipy as sp\n",
    "import matplotlib.pyplot as plt\n",
    "import pandas as pd\n",
    "import os\n",
    "#import astropy as ap\n",
    "#import seaborn as sns"
   ]
  },
  {
   "cell_type": "code",
   "execution_count": 305,
   "metadata": {},
   "outputs": [],
   "source": [
    "# Import the ZFOURGE Catalogue for each field, there should be a master catalogue for each field, importing all required information \n",
    "\n",
    "\n",
    "zfourge_fields = {'CDFS' : ['cdfs/cdfs.v1.6.11.cat', 'cdfs/cdfs.v1.6.9.zout', 'cdfs/cdfs.v1.6.9.sfr.v0.4.cat'], 'COSMOS' : ['cosmos//cosmos.v1.3.8.cat', 'cosmos/cosmos.v1.3.6.zout', 'cosmos\\cosmos.v1.3.6.sfr.v0.4.cat'], 'UDS' : ['uds/uds.v1.5.10.cat', 'uds/uds.v1.5.8.zout', 'uds/uds.v1.5.8.sfr.v0.4.cat']}\n",
    "\n",
    "field = 'COSMOS'\n",
    "\n",
    "sigma = 5\n",
    "\n",
    "## by selecting field from the dictionary, we can then import the required files for the field\n",
    "df = pd.DataFrame(np.genfromtxt(zfourge_fields[field][0], names=True, dtype=None, encoding='ascii')) # Master Catalogue, containg main info for file\n",
    "eazy_df = pd.DataFrame(np.genfromtxt(zfourge_fields[field][1], names=True, dtype=None, encoding='ascii')) # EAZY Redshifts for the field\n",
    "sfr_df = pd.DataFrame(np.genfromtxt(zfourge_fields[field][2], names=True, dtype=None, encoding='ascii')) # sfr fluxes for the field\n",
    "\n",
    "\n"
   ]
  },
  {
   "cell_type": "code",
   "execution_count": 306,
   "metadata": {},
   "outputs": [],
   "source": [
    "# We now need to add data from the other other imported datasets into the main cdfs dataframe, this will allow us to have all the required information in one place.\n",
    "\n",
    "# adding required information into the master dataframe based on id\n",
    "df = pd.merge(df, eazy_df[['id', 'z_peak']], on='id')\n",
    "# Add 24um fluxes to dataframe from her_df based on id column\n",
    "df = pd.merge(df, sfr_df[['id', 'f24', 'e24']], on='id')\n",
    "\n",
    "# As 24um fluxes are in mJy convert to microJy\n",
    "df['f24'] = df['f24']*1000\n",
    "df['e24'] = df['e24']*1000\n",
    "\n",
    "\n",
    "# Create a column to store if the selection diagnostic chooses the object as an AGN\n",
    "df[\"Messias Selection\"] = 0\n",
    "df[\"Lacy Selection\"] = 0\n",
    "# This will be the main dataset, which will be broken up into two datasets for each metric, the final result will be then put back into this\n",
    "\n"
   ]
  },
  {
   "cell_type": "markdown",
   "metadata": {},
   "source": [
    "## The Lacy Wedge\n",
    "The code below aims to select a subset of the dataset that corresponds to known agn, this is defined within the selection criteria in the literature (Lacy et al. 2004, 2007; Sajina et al. 2012).\n",
    "\n",
    "The criteria are as follows:\n",
    "\n",
    "$log_{10}(f_{5.8}/f_{3.6}) > -0.1$ \n",
    "\n",
    "$log_{10}(f_{8.0}/f_{4.5}) > -0.2$\n",
    "\n",
    "$log_{10}(f_{8.0}/f_{4.5}) < 0.8 \\times log_{10}(f_{5.8}/f_{3.6}) + 0.5$\n"
   ]
  },
  {
   "cell_type": "code",
   "execution_count": 307,
   "metadata": {},
   "outputs": [],
   "source": [
    "# We now need to create a new dataframe which will contain the information for the selection diagnostics, this will be used to determine which objects are AGN's\n",
    "# reduce dataframe to where there are values of flux that are greater than 0\n",
    "\n",
    "# filter out all zero values for the fluxes and only use galaxies where the use flag is 1\n",
    "lacy_df = df[(df['f_IRAC_36'] > 0) & ((df['f_IRAC_45'] > 0)) & (df['f_IRAC_58'] > 0) & (df['f_IRAC_80'] > 0) & (df['use'] == 1)].copy()\n",
    "\n",
    "# extra filtering based on the errors of the fluxes 20% of flux, as is done by Lacy et al. 2004.  \n",
    "#lacy_error_threshold = 0.2\n",
    "#lacy_df = lacy_df[(lacy_df['e_IRAC_36'] < (lacy_error_threshold * lacy_df['f_IRAC_36'])) & (lacy_df['e_IRAC_45'] < (lacy_error_threshold * lacy_df['f_IRAC_45'])) & (lacy_df['e_IRAC_58'] < (lacy_error_threshold * lacy_df['f_IRAC_58'])) & (lacy_df['e_IRAC_80'] < (lacy_error_threshold * lacy_df['f_IRAC_80']))]\n",
    "\n",
    "\n",
    "# Use flux/error thresholds to filter out bad sources\n",
    "lacy_df = lacy_df[(lacy_df['f_IRAC_36'] >= sigma * lacy_df['e_IRAC_36']) & ( lacy_df['f_IRAC_45'] >= sigma * lacy_df['e_IRAC_45']) & ( lacy_df['f_IRAC_58'] >= sigma * lacy_df['e_IRAC_58']) & ( lacy_df['f_IRAC_80'] >= sigma * lacy_df['e_IRAC_80'])]\n",
    "\n",
    "\n",
    "\n"
   ]
  },
  {
   "cell_type": "code",
   "execution_count": 308,
   "metadata": {},
   "outputs": [
    {
     "data": {
      "text/plain": [
       "241"
      ]
     },
     "execution_count": 308,
     "metadata": {},
     "output_type": "execute_result"
    }
   ],
   "source": [
    "# Implementing the selection condition outlined by Lacy et al. 2004, 2007, and Sajina et al. 2005\n",
    "lacy_selection_condition = (np.log10(lacy_df['f_IRAC_58'] / lacy_df['f_IRAC_36']) > -0.1) & (np.log10(lacy_df['f_IRAC_80'] / lacy_df['f_IRAC_45']) > -0.2) & (np.log10(lacy_df['f_IRAC_80'] / lacy_df['f_IRAC_45']) < 0.8 * np.log10(lacy_df['f_IRAC_58'] / lacy_df['f_IRAC_36']) + 0.5)\n",
    "\n",
    "# lacy selection condition will return a boolean array of indicies where the condition has or has not been met, we can then use this to select the objects that meet the condition\n",
    "# we can filter the dataset to where this is true\n",
    "lacy_df_selected = lacy_df[lacy_selection_condition == True]\n",
    "lacy_df_rejected = lacy_df[lacy_selection_condition == False]\n",
    "\n",
    "\n",
    "len(lacy_df_selected)"
   ]
  },
  {
   "cell_type": "code",
   "execution_count": 309,
   "metadata": {},
   "outputs": [
    {
     "data": {
      "text/plain": [
       "<matplotlib.legend.Legend at 0x1d7e53716a0>"
      ]
     },
     "execution_count": 309,
     "metadata": {},
     "output_type": "execute_result"
    },
    {
     "data": {
      "image/png": "[encoded data removed]",
      "text/plain": [
       "<Figure size 432x288 with 1 Axes>"
      ]
     },
     "metadata": {
      "needs_background": "light"
     },
     "output_type": "display_data"
    }
   ],
   "source": [
    "# Plotting the Selection\n",
    "# Create scatter plot for selected data\n",
    "\n",
    "plt.scatter(np.log10(lacy_df_selected['f_IRAC_58'] / lacy_df_selected['f_IRAC_36']), np.log10(lacy_df_selected['f_IRAC_80'] / lacy_df_selected['f_IRAC_45']), c='blue', marker='o',s=5 ,label='Selected Infrared Source')\n",
    "\n",
    "# Create scatter plot for remaining data\n",
    "plt.scatter(np.log10(lacy_df_rejected['f_IRAC_58'] / lacy_df_rejected['f_IRAC_36']), np.log10(lacy_df_rejected['f_IRAC_80'] / lacy_df_rejected['f_IRAC_45']), c='grey', marker='o',s=4 ,label='Remaining Infrared Source')\n",
    "\n",
    "# Define vertices for AGN wedge - This doesn't quite work. I need to figure out how to plot the wedge.\n",
    "wedge_vertices = [\n",
    "  (np.log10(lacy_df_selected['f_IRAC_58'] / lacy_df_selected['f_IRAC_36']).max() + 0.4, -0.2),\n",
    "  (-0.1, -0.2),\n",
    "  (-0.1, 0.4), \n",
    "  (np.log10(lacy_df_selected['f_IRAC_58'] / lacy_df_selected['f_IRAC_36']).max()+ 2, 3)\n",
    "]\n",
    "\n",
    "# Create a polygon patch for the AGN wedge\n",
    "wedge_polygon = plt.Polygon(wedge_vertices, closed=True, edgecolor='r', facecolor='none', linestyle='-', linewidth=2, label='Lacy Wedge')\n",
    "\n",
    "# Add the AGN wedge polygon patch to the plot\n",
    "plt.gca().add_patch(wedge_polygon)\n",
    "\n",
    "# Set the limits\n",
    "plt.xlim([-0.6, 0.8])\n",
    "plt.ylim([-0.8, 1.2])\n",
    "\n",
    "# Set the ticks\n",
    "plt.xticks([-0.5, 0, 0.5])\n",
    "plt.yticks([-0.5, 0, 0.5, 1.0])\n",
    "plt.minorticks_on()\n",
    "\n",
    "\n",
    "# Finally add the legend\n",
    "plt.legend(loc='upper left', fontsize=11)\n"
   ]
  },
  {
   "cell_type": "code",
   "execution_count": 310,
   "metadata": {},
   "outputs": [],
   "source": [
    "# Adjust the Lacy Selection Criteria Accordingly in the main dataframe\n",
    "df.loc[lacy_df_selected.index, 'Lacy Selection'] = 1 # Set selected sources to 1 using boolean array selection "
   ]
  },
  {
   "cell_type": "markdown",
   "metadata": {},
   "source": [
    "## Now we will use the modified dataset and using a different selection criteria we will aim to select a subset of the dataset that corresponds to known agn. For this case we will use the Messias KI and KIM Selection (\"Messias et al. 2012, 2013\") \n",
    "as ZFOURGE only deals with redshifts below 4 we will only make use of redshifts below 4 and above 0.\n",
    "this selection criteria deals with AB magnitudes instead of rest frame fluxes and is shown below.\n",
    "\n",
    "This selection criteria behaves differently depending on we are considering a redshift below 1.8 or above 1.8\n",
    "Noting that the selection criteria was taken from the paper by Messias et al. 2012\n",
    "\n",
    "KI Selection Criteria:\n",
    "$z<1.8\\begin{cases}K_{s}-[4.5]>0&\\\\ [4.5]-[8.0]>0&\\end{cases} \\\\$\n",
    "\n",
    "KIM Selection Criteria:\n",
    "$z>1.8\\begin{cases}[8.0]-[24]>-2.9\\times ([4.5]-[8.0])+2.8&\\\\ [8.0]-[24]>0.5&\\end{cases}$\n",
    " \n",
    "as we are considering AB magnitudes we will need to convert the fluxes to magnitudes, this is done using the following formula:\n",
    "\n",
    "$AB_f = 25 - 2.5 log_{10}(f)$\n",
    "\n",
    "where f is the flux in microjansky\n"
   ]
  },
  {
   "cell_type": "code",
   "execution_count": 311,
   "metadata": {},
   "outputs": [],
   "source": [
    "# As the Messias KIM selection reqires the conversion of observed fluxes into AB magnitudes we can define a function to convert the fluxes into magnitudes\n",
    "def flux_to_AB(flux):\n",
    "    ab_f = 25 - 2.5*np.log10(flux)\n",
    "    return ab_f"
   ]
  },
  {
   "cell_type": "code",
   "execution_count": 312,
   "metadata": {},
   "outputs": [],
   "source": [
    "# We are dealing with two seperate redshift rangers z < 1.8 and z > 1.8\n",
    "messias_df = df[(df['f_IRAC_36'] > 0) & (df['f_IRAC_45'] > 0) & (df['f_IRAC_58'] > 0) & (df['f_IRAC_80'] > 0) & (df['use'] == 1) & (df['f24'] > 0) & (df['f_Ks'] > 0)].copy()\n",
    "\n",
    "# We filter the messias data based on criteria defined in Messias et al. 2012, 2013. Here they only consider fluxes with a error of less than a third of the measured flux.\n",
    "# KsIRAC_messias_error_threshold = 0.33\n",
    "# MIPS_messias_error_threshold = 0.33\n",
    "\n",
    "\n",
    "#messias_df = messias_df[(messias_df['e_IRAC_36'] < (KsIRAC_messias_error_threshold * messias_df['f_IRAC_36'])) & (messias_df['e_IRAC_45'] < (KsIRAC_messias_error_threshold * messias_df['f_IRAC_45'])) & (messias_df['e_IRAC_58'] < (KsIRAC_messias_error_threshold * messias_df['f_IRAC_58'])) & (messias_df['e_IRAC_80'] < (KsIRAC_messias_error_threshold * messias_df['f_IRAC_80'])) & (messias_df['e_Ks'] < (KsIRAC_messias_error_threshold * messias_df['f_Ks']))]\n",
    "#messias_df = messias_df[(messias_df['e24'] < (MIPS_messias_error_threshold * messias_df['f24']))]\n",
    "\n",
    "\n",
    "messias_df = messias_df[(messias_df['f_IRAC_36'] >= sigma * messias_df['e_IRAC_36']) & ( messias_df['f_IRAC_45'] >= sigma * messias_df['e_IRAC_45']) & ( messias_df['f_IRAC_58'] >= sigma * messias_df['e_IRAC_58']) & ( messias_df['f_IRAC_80'] >= sigma * messias_df['e_IRAC_80']) & ( messias_df['f_Ks'] >= sigma * messias_df['e_Ks']) & ( messias_df['f24'] >= sigma * messias_df['e24'])]\n",
    "\n",
    "\n",
    "# Create new columns that deal with the flux in AB magnitudes\n",
    "messias_df['f_IRAC_45_AB'] = messias_df['f_IRAC_45'].apply(flux_to_AB)\n",
    "messias_df['f_IRAC_80_AB'] = messias_df['f_IRAC_80'].apply(flux_to_AB)\n",
    "messias_df['f24_AB'] = messias_df['f24'].apply(flux_to_AB)\n",
    "messias_df['f_Ks_AB'] = messias_df['f_Ks'].apply(flux_to_AB)\n",
    "\n",
    "# May have to do more filtering on accepting correct values for the magnitudes"
   ]
  },
  {
   "cell_type": "code",
   "execution_count": 313,
   "metadata": {},
   "outputs": [],
   "source": [
    "# First we will deal with the case where z < 1.8\n",
    "# Create a boolean array to select the correct redshift range\n",
    "# Create two sub dataframes for the two redshift ranges\n",
    "messias_lower_df = messias_df[(messias_df['z_peak'] < 1.8) & (messias_df['z_peak'] > 0.2)] \n",
    "messias_upper_df = messias_df[(messias_df['z_peak'] > 1.8) & (messias_df['z_peak'] < 3.2)]"
   ]
  },
  {
   "cell_type": "markdown",
   "metadata": {},
   "source": [
    "### The KI Selection \n",
    "$z<1.8\\begin{cases}K_{s}-[4.5]>0&\\\\ [4.5]-[8.0]>0&\\end{cases} \\\\$"
   ]
  },
  {
   "cell_type": "code",
   "execution_count": 314,
   "metadata": {},
   "outputs": [
    {
     "data": {
      "text/plain": [
       "<matplotlib.legend.Legend at 0x1d7e223bfd0>"
      ]
     },
     "execution_count": 314,
     "metadata": {},
     "output_type": "execute_result"
    },
    {
     "data": {
      "image/png": "[encoded data removed]",
      "text/plain": [
       "<Figure size 432x288 with 1 Axes>"
      ]
     },
     "metadata": {
      "needs_background": "light"
     },
     "output_type": "display_data"
    }
   ],
   "source": [
    "# First dealing with the redshift in the lower reigon\n",
    "# We will need to define a selection criteria that will be able\n",
    "# to select the correct objects \n",
    "lower_messias_selection_condition = (messias_lower_df['f_IRAC_45_AB'] - messias_lower_df['f_IRAC_80_AB'] > 0) & (messias_lower_df['f_Ks_AB'] - messias_lower_df['f_IRAC_45_AB'] > 0)\n",
    "\n",
    "# lower messias selection condition will return a boolean array of indicies where the condition has or has not been met, we can then use this to select the objects that meet the condition\n",
    "# we can filter the dataset to where this is true\n",
    "messias_lower_df_selected = messias_lower_df[lower_messias_selection_condition== True]\n",
    "messias_lower_df_rejected = messias_lower_df[lower_messias_selection_condition== False]\n",
    "\n",
    "# Now attempt to plot the selected sources in blue and the remaining sources in grey\n",
    "plt.scatter(messias_lower_df_selected['f_IRAC_45_AB'] - messias_lower_df_selected['f_IRAC_80_AB'], messias_lower_df_selected['f_Ks_AB'] - messias_lower_df_selected['f_IRAC_45_AB'], s=10, color='blue', label='Selected Infrared Source')\n",
    "plt.scatter(messias_lower_df_rejected['f_IRAC_45_AB'] - messias_lower_df_rejected['f_IRAC_80_AB'], messias_lower_df_rejected['f_Ks_AB'] - messias_lower_df_rejected['f_IRAC_45_AB'], s=10, color='grey', label='Infrared Source')\n",
    "plt.title(\"Messias KI Selection of AGN for 0.2 < z < 1.8\")\n",
    "plt.xlabel(\"[4.5] - [8.0] (AB)\")\n",
    "plt.ylabel(\"$K_s$ - [4.5] (AB)\")\n",
    "\n",
    "\n",
    "# Changes the limits to something more appropriate\n",
    "plt.xlim([-2, 2])\n",
    "plt.ylim([-2, 2])\n",
    "\n",
    "# Plot the selection line corresponding to the selection criteria\n",
    "plt.plot([0, 0,2, 2.1, 0],[0,2, 2.1, 0, 0], 'r-', label='Messias KI Selection') \n",
    "\n",
    "# Finally add the legend\n",
    "plt.legend(loc='upper left', fontsize=11)"
   ]
  },
  {
   "cell_type": "code",
   "execution_count": 315,
   "metadata": {},
   "outputs": [],
   "source": [
    "# We now update the main dataframe based on the selection criteria returning true\n",
    "df.loc[messias_lower_df_selected.index, 'Messias Selection'] = 1 "
   ]
  },
  {
   "cell_type": "markdown",
   "metadata": {},
   "source": [
    "### The KIM Selection \n",
    "$z>1.8\\begin{cases}[8.0]-[24]>-2.9\\times ([4.5]-[8.0])+2.8&\\\\ [8.0]-[24]>0.5&\\end{cases}$"
   ]
  },
  {
   "cell_type": "code",
   "execution_count": 316,
   "metadata": {},
   "outputs": [
    {
     "data": {
      "image/png": "[encoded data removed]",
      "text/plain": [
       "<Figure size 432x288 with 1 Axes>"
      ]
     },
     "metadata": {
      "needs_background": "light"
     },
     "output_type": "display_data"
    }
   ],
   "source": [
    "# Create a selection criteria to filter the upper redshift value dataset\n",
    "kim_selection_condition_a = (messias_upper_df['f_IRAC_80_AB'] - messias_upper_df['f24_AB'] > ((-2.9 * (messias_upper_df['f_IRAC_45_AB'] - messias_upper_df['f_IRAC_80_AB'])) + 2.8))\n",
    "kim_selection_condition_b = ((messias_upper_df['f_IRAC_80_AB'] - messias_upper_df['f24_AB']) > 0.5)\n",
    "upper_messias_selection_condition = (kim_selection_condition_a & kim_selection_condition_b)\n",
    "\n",
    "# lower messias selection condition will return a boolean array of indicies where the condition has or has not been met, we can then use this to select the objects that meet the condition\n",
    "# we can filter the dataset to where this is true\n",
    "messias_upper_df_selected = messias_upper_df[upper_messias_selection_condition== True]\n",
    "messias_upper_df_rejected = messias_upper_df[upper_messias_selection_condition== False]\n",
    "\n",
    "# plot the selected sources in blue, and the remaining sources in grey\n",
    "plt.scatter(messias_upper_df_selected['f_IRAC_45_AB'] - messias_upper_df_selected['f_IRAC_80_AB'],messias_upper_df_selected['f_IRAC_80_AB'] - messias_upper_df_selected['f24_AB'], s=10, color='blue', label='Selected Infrared Source')\n",
    "plt.scatter(messias_upper_df_rejected['f_IRAC_45_AB'] - messias_upper_df_rejected['f_IRAC_80_AB'],messias_upper_df_rejected['f_IRAC_80_AB'] - messias_upper_df_rejected['f24_AB'], s=10, color='grey', label='Infrared Source')\n",
    "\n",
    "plt.title(\"Messias KIM Selection of AGN for 1.8 < z < 3.2\")\n",
    "plt.xlabel(\"[4.5] - [8.0] (AB)\")\n",
    "plt.ylabel(\"[8.0] - [24] (AB)\")\n",
    "\n",
    "# We can adjust these limits later\n",
    "plt.xlim([-1.1, 1.2])\n",
    "plt.ylim([-0.2, 4])\n",
    "plt.xticks([-1, 0, 1])\n",
    "plt.yticks([-1, 0, 1, 2, 3, 4])\n",
    "plt.minorticks_on()\n",
    "\n",
    "# Mathematically redefine this latter rather than doing from inspection\n",
    "wedge_vertices = [\n",
    "    (1.5, 0.5),\n",
    "    (0.8,0.5),\n",
    "    (-0.40,4)\n",
    "]\n",
    "\n",
    "# Create a polygon patch for the AGN wedge\n",
    "wedge_polygon = plt.Polygon(wedge_vertices, closed=False, edgecolor='r', facecolor='none', linestyle='-', linewidth=2, label='Messias KIM selection')\n",
    "\n",
    "# Add the AGN wedge polygon patch to the plot\n",
    "plt.gca().add_patch(wedge_polygon)\n",
    "\n",
    "# Finally add the legend\n",
    "plt.legend(loc='lower left')\n",
    "plt.show()\n",
    "\n"
   ]
  },
  {
   "cell_type": "code",
   "execution_count": 317,
   "metadata": {},
   "outputs": [],
   "source": [
    "# We now update the main dataframe based on the selection criteria returning true\n",
    "df.loc[messias_upper_df_selected.index, 'Messias Selection'] = 1 "
   ]
  },
  {
   "cell_type": "markdown",
   "metadata": {},
   "source": [
    "## Output the results of the selection into a CSV file.\n",
    "Now that both selection criteria have been applied, we can check the selection criteria, and look for values that are true for both selection criteria, this will give us a subset of the dataset that corresponds to known AGN. Alternatively we can look for values that are true for either selection criteria, this will give us a subset of the dataset that corresponds to known AGN in each method. "
   ]
  },
  {
   "cell_type": "code",
   "execution_count": 318,
   "metadata": {},
   "outputs": [
    {
     "name": "stdout",
     "output_type": "stream",
     "text": [
      "Number of Lacy Selections:  241\n",
      "Number of Messias Selections:  50\n",
      "Number of Selections by Both Lacy and Messias Criteria:  253\n"
     ]
    }
   ],
   "source": [
    "num_lacy_selections = len(df[df['Lacy Selection'] == 1])\n",
    "num_messias_selections = len(df[df['Messias Selection'] == 1])\n",
    "num_lacy_messias_selections = len(df[(df['Lacy Selection'] == 1) | (df['Messias Selection'] == 1)])\n",
    "\n",
    "# Print out the number of each selections \n",
    "print(\"Number of Lacy Selections: \", num_lacy_selections)\n",
    "print(\"Number of Messias Selections: \", num_messias_selections)\n",
    "print(\"Number of Selections by Both Lacy and Messias Criteria: \", num_lacy_messias_selections)"
   ]
  },
  {
   "cell_type": "code",
   "execution_count": 319,
   "metadata": {},
   "outputs": [],
   "source": [
    "# Create the folder if it doesn't exist\n",
    "folder_path = 'diagnostic selections'\n",
    "if not os.path.exists(folder_path):\n",
    "    os.makedirs(folder_path)\n",
    "\n",
    "\n",
    "\n",
    "\n",
    "# Output the a csv file containing the identifying information (id) for each of the selected sources\n",
    "# There will be three csv outputs, one for each selection criteria, and one for the combined selection criteria\n",
    "def export_AGN_data(field, all_data, selection_criteria):\n",
    "    \n",
    "    if all_data == True:\n",
    "        file_name =  field+'_full_data_'+str(sigma)+'_sigma.csv'\n",
    "        file_path = os.path.join(folder_path, file_name)\n",
    "        df.to_csv(file_path, index=False)\n",
    "    else:\n",
    "        if selection_criteria == 'Lacy':\n",
    "            file_name = field+'_lacy_selection_'+str(sigma)+'_sigma.csv'\n",
    "            file_path = os.path.join(folder_path, file_name)\n",
    "            df[df['Lacy Selection'] == 1].to_csv(file_path, index=False)\n",
    "        elif selection_criteria == 'Messias':\n",
    "            file_name = field+'_messias_selection_'+str(sigma)+'_sigma.csv'\n",
    "            file_path = os.path.join(folder_path, file_name)\n",
    "            df[df['Messias Selection'] == 1].to_csv(file_path, index=False)\n",
    "        elif selection_criteria == 'Combined':\n",
    "            file_name = field+'_combined_selection_'+str(sigma)+'_sigma.csv'\n",
    "            file_path = os.path.join(folder_path, file_name)\n",
    "            df[(df['Messias Selection'] == 1) | (df['Lacy Selection'] == 1)].to_csv(file_path, index=False)\n",
    "\n",
    "# export AGN data based on \n",
    "export_AGN_data(field, False,'Combined')  "
   ]
  }
 ],
 "metadata": {
  "kernelspec": {
   "display_name": "base",
   "language": "python",
   "name": "python3"
  },
  "language_info": {
   "codemirror_mode": {
    "name": "ipython",
    "version": 3
   },
   "file_extension": ".py",
   "mimetype": "text/x-python",
   "name": "python",
   "nbconvert_exporter": "python",
   "pygments_lexer": "ipython3",
   "version": "3.8.8"
  },
  "orig_nbformat": 4
 },
 "nbformat": 4,
 "nbformat_minor": 2
}
